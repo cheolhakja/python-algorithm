{
 "cells": [
  {
   "attachments": {},
   "cell_type": "markdown",
   "metadata": {},
   "source": [
    "백트래킹은 언제 쓰는거지? 그게 뭐지?\n",
    "\n",
    "* 파이썬 이차원 배열 \n",
    "\n",
    "```\n",
    "a[].append(list)\n",
    "```\n",
    "\n",
    "> 리스트 컴프리헨션은 for문에서 반복되는 변수를 콜론(:)다음에 줄을 바꿔 들여쓰기하는것이 아니라, for문앞에 작성합니다. 컴프리헨션에서 사용한 x는 for문 내부에서 append메소드에 인자로 넣은 변수 n과 같습니다. 만약 2의 배수를 10개 가지고 있는 리스트를 컴프리헨션을 사용해서 만들면 다음과 같습니다.\n",
    "\n"
   ]
  },
  {
   "cell_type": "code",
   "execution_count": 1,
   "metadata": {},
   "outputs": [
    {
     "name": "stdout",
     "output_type": "stream",
     "text": [
      "1 2 3\n",
      "1 2 3\n",
      "1 2 3\n",
      "1 2 3\n",
      "1 2 3\n",
      "1 2 3\n",
      "1 2 3\n",
      "1 2 3\n",
      "1 2 3\n",
      "1 2 3\n",
      "1 2 3\n",
      "[(10, 19), (10, 19), (10, 19), (10, 19), (10, 19)]\n",
      "[[0, 0, 0, 0, 0], [0, 0, 0, 0, 0], [0, 0, 0, 0, 0], [0, 0, 0, 0, 0], [0, 0, 0, 0, 0]]\n",
      "[[0, 0, 0, 0, 0], [0, 0, 0, 0, 0], [0, 0, 0, 0, 0], [0, 0, 0, 0, 0], [0, 0, 0, 0, 0]]\n",
      "[[0, 0, 0, 0, 0], [0, 0, 0, 0, 0], [0, 0, 0, 0, 0], [0, 0, 0, 0, 0], [0, 0, 0, 0, 0]]\n"
     ]
    }
   ],
   "source": [
    "import sys\n",
    "graph = []\n",
    "\n",
    "for i in range(11):\n",
    "    graph.append(list([1,2,3]))\n",
    "\n",
    "'''for i in range(11):\n",
    "    for j in range(11):\n",
    "        print(graph[i][j])'''    \n",
    "\n",
    "    \n",
    "for i in range(11):\n",
    "    print(*graph[i])\n",
    "\n",
    "n = 5\n",
    "arr = [(10,19) for j in range(n)]\n",
    "print(arr)\n",
    "\n",
    "print([[0 for i in range(n)] for i in range(n)]) #0으로만 가득찬 5X5 이차원배\n",
    "print([[0] * n] * n)\n",
    "print([[0] * n for i in range(n)])"
   ]
  },
  {
   "cell_type": "code",
   "execution_count": 1,
   "metadata": {},
   "outputs": [],
   "source": [
    "def fun1():\n",
    "    print(\"파이썬 너무 재밌따ㅎㅎㅎㅎ\")\n",
    "    print(\"아니 왜이렇게 편하냐 ㅋㅋㅋㅋㅋ\")\n",
    "    print(\"못만드는 것도 없다며 ㅋㅋ\")\n",
    "    return\n",
    "\n",
    "def fun2(a,b):\n",
    "    return (a,b)\n"
   ]
  },
  {
   "cell_type": "code",
   "execution_count": 2,
   "metadata": {},
   "outputs": [
    {
     "name": "stdout",
     "output_type": "stream",
     "text": [
      "파이썬 너무 재밌따ㅎㅎㅎㅎ\n",
      "아니 왜이렇게 편하냐 ㅋㅋㅋㅋㅋ\n",
      "못만드는 것도 없다며 ㅋㅋ\n"
     ]
    },
    {
     "data": {
      "text/plain": [
       "(1, 2)"
      ]
     },
     "execution_count": 2,
     "metadata": {},
     "output_type": "execute_result"
    }
   ],
   "source": [
    "fun1()\n",
    "fun2(1,2)"
   ]
  },
  {
   "cell_type": "code",
   "execution_count": 4,
   "metadata": {},
   "outputs": [],
   "source": [
    "sys.stdin\n",
    "\n",
    "blank = 14\n",
    "blank_list = [] #튜플\n",
    " \n",
    "def checkRow():\n",
    "    print()\n",
    "\n",
    "def checkColumn():\n",
    "    print()\n",
    "\n",
    "def checkSquare():\n",
    "    print()\n",
    "\n",
    "def dfs(layer):\n",
    "    if(layer == blank):\n",
    "        print()\n",
    "        return\n",
    "    \n",
    "    for i in range(1,10):\n",
    "        tmp = blank_list[layer]\n",
    "        if(checkRow() and checkColumn() and checkSquare()):\n",
    "            dfs(layer + 1)\n",
    "        else:\n",
    "            continue\n",
    "\n",
    "\n"
   ]
  }
 ],
 "metadata": {
  "kernelspec": {
   "display_name": "base",
   "language": "python",
   "name": "python3"
  },
  "language_info": {
   "codemirror_mode": {
    "name": "ipython",
    "version": 3
   },
   "file_extension": ".py",
   "mimetype": "text/x-python",
   "name": "python",
   "nbconvert_exporter": "python",
   "pygments_lexer": "ipython3",
   "version": "3.9.12 (main, Apr  4 2022, 05:22:27) [MSC v.1916 64 bit (AMD64)]"
  },
  "orig_nbformat": 4,
  "vscode": {
   "interpreter": {
    "hash": "5a356e9517e14dc2ad259a2123438b15b3972e1e2b3dbfde245c14a47e88b3a8"
   }
  }
 },
 "nbformat": 4,
 "nbformat_minor": 2
}
