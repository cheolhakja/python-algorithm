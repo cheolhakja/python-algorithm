{
 "cells": [
  {
   "cell_type": "code",
   "execution_count": null,
   "metadata": {},
   "outputs": [],
   "source": []
  },
  {
   "cell_type": "code",
   "execution_count": 2,
   "metadata": {},
   "outputs": [
    {
     "ename": "ValueError",
     "evalue": "invalid literal for int() with base 10: '2 2 3 4'",
     "output_type": "error",
     "traceback": [
      "\u001b[1;31m---------------------------------------------------------------------------\u001b[0m",
      "\u001b[1;31mValueError\u001b[0m                                Traceback (most recent call last)",
      "\u001b[1;32mc:\\Users\\IBK\\Desktop\\py-algorithm\\backtracking\\boj-2580-sudoku-2.ipynb Cell 2\u001b[0m in \u001b[0;36m<cell line: 3>\u001b[1;34m()\u001b[0m\n\u001b[0;32m      <a href='vscode-notebook-cell:/c%3A/Users/IBK/Desktop/py-algorithm/backtracking/boj-2580-sudoku-2.ipynb#W1sZmlsZQ%3D%3D?line=3'>4</a>\u001b[0m tmp_list \u001b[39m=\u001b[39m []\n\u001b[0;32m      <a href='vscode-notebook-cell:/c%3A/Users/IBK/Desktop/py-algorithm/backtracking/boj-2580-sudoku-2.ipynb#W1sZmlsZQ%3D%3D?line=4'>5</a>\u001b[0m \u001b[39mfor\u001b[39;00m j \u001b[39min\u001b[39;00m \u001b[39mrange\u001b[39m(board_size):\n\u001b[1;32m----> <a href='vscode-notebook-cell:/c%3A/Users/IBK/Desktop/py-algorithm/backtracking/boj-2580-sudoku-2.ipynb#W1sZmlsZQ%3D%3D?line=5'>6</a>\u001b[0m     tmp \u001b[39m=\u001b[39m \u001b[39mint\u001b[39;49m(\u001b[39minput\u001b[39;49m())\n\u001b[0;32m      <a href='vscode-notebook-cell:/c%3A/Users/IBK/Desktop/py-algorithm/backtracking/boj-2580-sudoku-2.ipynb#W1sZmlsZQ%3D%3D?line=6'>7</a>\u001b[0m     tmp_list\u001b[39m.\u001b[39mappend(tmp)\n\u001b[0;32m      <a href='vscode-notebook-cell:/c%3A/Users/IBK/Desktop/py-algorithm/backtracking/boj-2580-sudoku-2.ipynb#W1sZmlsZQ%3D%3D?line=7'>8</a>\u001b[0m board\u001b[39m.\u001b[39mappend(tmp_list)\n",
      "\u001b[1;31mValueError\u001b[0m: invalid literal for int() with base 10: '2 2 3 4'"
     ]
    }
   ],
   "source": [
    "board = []\n",
    "board_size = 2\n",
    "for i in range(board_size):\n",
    "    tmp_list = []\n",
    "    for j in range(board_size):\n",
    "        tmp = int(input())\n",
    "        tmp_list.append(tmp)\n",
    "    board.append(tmp_list)\n",
    "\n",
    "print(board)"
   ]
  }
 ],
 "metadata": {
  "kernelspec": {
   "display_name": "base",
   "language": "python",
   "name": "python3"
  },
  "language_info": {
   "codemirror_mode": {
    "name": "ipython",
    "version": 3
   },
   "file_extension": ".py",
   "mimetype": "text/x-python",
   "name": "python",
   "nbconvert_exporter": "python",
   "pygments_lexer": "ipython3",
   "version": "3.9.12"
  },
  "orig_nbformat": 4,
  "vscode": {
   "interpreter": {
    "hash": "5a356e9517e14dc2ad259a2123438b15b3972e1e2b3dbfde245c14a47e88b3a8"
   }
  }
 },
 "nbformat": 4,
 "nbformat_minor": 2
}
