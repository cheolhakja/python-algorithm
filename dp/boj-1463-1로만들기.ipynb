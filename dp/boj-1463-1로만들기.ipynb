{
 "cells": [
  {
   "attachments": {},
   "cell_type": "markdown",
   "metadata": {},
   "source": [
    "그리디 관점에서 생각해봤을때 큰 수로 처음부터 계속 나누는 것이 제일 빨리 1로 도달할 수 있는 방법이라고 생각했다.\n",
    "\n",
    "하지만, 10의 경우엔 10 - 5 - 4 - 2 - 1로 푸는 방법 보다, 처음부터 1을 빼고 10 - 9 - 3 - 1을 만드는 방법이 최솟값이다.  \n",
    "\n",
    "그렇기에 동적 계획법을 이용해야한다. 동적 계획법을 사용하는 경우 모든 경우의 수(1을 빼는 경우, 2로 나누는 경우, 3으로 나누는 경우) 중 최솟값을 찾아낼 수 있기 때문이다.  \n",
    "\n",
    "정리하면  \n",
    "\n",
    "* `그리디 알고리즘`: 내가 생각한 처음 최적의 방법이 끝까지 반례 없이 적용이 되는 경우에 이용한다.\n",
    "* `동적 계획법`: 가능성을 모두 두고 그 안에 최솟값을 찾을 수 있다\n"
   ]
  },
  {
   "cell_type": "code",
   "execution_count": 3,
   "metadata": {},
   "outputs": [
    {
     "name": "stdout",
     "output_type": "stream",
     "text": [
      "3\n"
     ]
    }
   ],
   "source": [
    "\n",
    "input2 = int(input())\n",
    "d = [0] * (input2 + 1)\n",
    "d[1] = 0\n",
    "\n",
    "if(input2 == 1):\n",
    "    print(0)\n",
    "    \n",
    "else:\n",
    "    for i in range(2, input2 + 1):\n",
    "        min_num = 2147000000\n",
    "        if (i % 3 == 0):\n",
    "            tmp1 = i // 3\n",
    "            tmp2 = d[tmp1] + 1\n",
    "            min_num = min(min_num, tmp2)\n",
    "        if (i % 2 == 0):\n",
    "            tmp3 = i // 2\n",
    "            tmp4 = d[tmp3] + 1\n",
    "            min_num = min(min_num, tmp4)\n",
    "        tmp5 = d[i-1] + 1\n",
    "        min_num = min(min_num, tmp5)\n",
    "\n",
    "        d[i] = min_num\n",
    "    print(d[input2])"
   ]
  }
 ],
 "metadata": {
  "kernelspec": {
   "display_name": "base",
   "language": "python",
   "name": "python3"
  },
  "language_info": {
   "codemirror_mode": {
    "name": "ipython",
    "version": 3
   },
   "file_extension": ".py",
   "mimetype": "text/x-python",
   "name": "python",
   "nbconvert_exporter": "python",
   "pygments_lexer": "ipython3",
   "version": "3.9.12 (main, Apr  4 2022, 05:22:27) [MSC v.1916 64 bit (AMD64)]"
  },
  "orig_nbformat": 4,
  "vscode": {
   "interpreter": {
    "hash": "5a356e9517e14dc2ad259a2123438b15b3972e1e2b3dbfde245c14a47e88b3a8"
   }
  }
 },
 "nbformat": 4,
 "nbformat_minor": 2
}
