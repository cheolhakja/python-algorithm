{
 "cells": [
  {
   "cell_type": "code",
   "execution_count": 1,
   "metadata": {},
   "outputs": [
    {
     "name": "stdout",
     "output_type": "stream",
     "text": [
      "<class 'list'>\n",
      "['a', 'b', 'c']\n"
     ]
    }
   ],
   "source": [
    "# 한 줄에 공백으로 구분된 문자를 입력받을때\n",
    "# 입력 요소들이 리스트가 된다\n",
    "\n",
    "result = input().split()\n",
    "print(type(result))\n",
    "print(result)"
   ]
  },
  {
   "cell_type": "code",
   "execution_count": 3,
   "metadata": {},
   "outputs": [
    {
     "name": "stdout",
     "output_type": "stream",
     "text": [
      "<class 'map'>\n",
      "<map object at 0x000001893DDCE7F0>\n",
      "[2, 2, 3]\n"
     ]
    }
   ],
   "source": [
    "# 1차원 배열(리스트) 입력받기\n",
    "#    - map객체를 list로 바꿔줘야함\n",
    "\n",
    "result_map_type = map(int, input().split())\n",
    "print(type(result_map_type))\n",
    "result_list = list(result_map_type)\n",
    "print(result_list)\n"
   ]
  },
  {
   "attachments": {},
   "cell_type": "markdown",
   "metadata": {},
   "source": [
    "#### 이어진 숫자를 한자리씩 나눠서 리스트에 저장하려면? 이게 참 신기하네"
   ]
  },
  {
   "cell_type": "code",
   "execution_count": 4,
   "metadata": {},
   "outputs": [
    {
     "name": "stdout",
     "output_type": "stream",
     "text": [
      "['2', '1', '3', '4']\n"
     ]
    }
   ],
   "source": [
    "# 이어진 숫자를 한자리씩 나눠서 리스트에 저장하려면?\n",
    "# list()로 감싸기\n",
    "print(list(input()))"
   ]
  },
  {
   "cell_type": "code",
   "execution_count": 6,
   "metadata": {},
   "outputs": [
    {
     "name": "stdout",
     "output_type": "stream",
     "text": [
      "[1, 2, 3]\n"
     ]
    }
   ],
   "source": [
    "number_without_space = list(map(int, input()))\n",
    "print(number_without_space)"
   ]
  },
  {
   "attachments": {},
   "cell_type": "markdown",
   "metadata": {},
   "source": [
    "#### 이차원 배열 만들기(리스트 컴프리헨션 쓰면 될듯)"
   ]
  },
  {
   "cell_type": "code",
   "execution_count": 7,
   "metadata": {},
   "outputs": [
    {
     "name": "stdout",
     "output_type": "stream",
     "text": [
      "[[1, 2, 3], [1, 2, 3], [1, 2, 2]]\n"
     ]
    }
   ],
   "source": [
    "row = int(input())\n",
    "two_dim_list = [ list(map(int, input().split()))  for i in range(row)]\n",
    "print(two_dim_list)"
   ]
  },
  {
   "attachments": {},
   "cell_type": "markdown",
   "metadata": {},
   "source": [
    "```\n",
    "import sys\n",
    "\n",
    "sys.stdin = open(\"경로\" 'r')\n",
    "```"
   ]
  }
 ],
 "metadata": {
  "kernelspec": {
   "display_name": "env_pytorch",
   "language": "python",
   "name": "python3"
  },
  "language_info": {
   "codemirror_mode": {
    "name": "ipython",
    "version": 3
   },
   "file_extension": ".py",
   "mimetype": "text/x-python",
   "name": "python",
   "nbconvert_exporter": "python",
   "pygments_lexer": "ipython3",
   "version": "3.8.13"
  },
  "orig_nbformat": 4,
  "vscode": {
   "interpreter": {
    "hash": "4ca5efb7ff9c18da74702b343c47071f85ab33c0c9270b33a37b4fd457c47695"
   }
  }
 },
 "nbformat": 4,
 "nbformat_minor": 2
}
